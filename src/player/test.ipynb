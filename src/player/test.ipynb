{
 "cells": [
  {
   "attachments": {},
   "cell_type": "markdown",
   "metadata": {},
   "source": [
    "# Player Analysis for BPL 10\n",
    "\n",
    "Author: Cearlmau\n",
    "\n",
    "This file breaks down the player distribution of BPL teams based on team and level\n",
    "at various points in the BPL 10 event. The goal of this data analysis is to look at\n",
    "whether or not the team distributions had an effect on overall team player levels, and\n",
    "how that may contribute to a team's success.\n",
    "\n",
    "Special thanks to Moowiz for providing the data."
   ]
  },
  {
   "cell_type": "code",
   "execution_count": 35,
   "metadata": {},
   "outputs": [],
   "source": [
    "#Libraries and Data Sources\n",
    "import csv\n",
    "import pandas as pd\n",
    "import plotly\n",
    "import datetime\n",
    "\n",
    "level_data = pd.read_csv(\"../../data/bpl-10_level_data.csv\")\n",
    "teams_data = pd.read_csv(\"../../data/bpl-10_teams.csv\")"
   ]
  },
  {
   "attachments": {},
   "cell_type": "markdown",
   "metadata": {},
   "source": [
    "## Background:\n",
    "\n",
    "Path of Exile is a popular game whose premise revolves around the player killing enemies using a preset character with an extensive amount of customization. The killed enemies generate loot and other bonuses which the player can use to augment and upgrade their character. Path of Exile is an online game, which means that players can interact with one another, trading each items and/or playing in the same instance as one another.\n",
    "\n",
    "BPL is an quarterly event that coincides with each major update that Path of Exile receives. Around 2000 players is placed inside an isolated and newly created instance (referred to as a \"league\") where they must work together with their designated team to acquire items and accomplish objectives(\"bounties\") defined by the organizers. Doing so accumulates points towards their team total, and at the end the teams are ranked based on how many points they have acquired over the four-day event. There are 4 teams for BPL 10.\n",
    "\n",
    "Each preset character has a specific upgrade called an \"ascendancy\". This allows the character to gain unique powers that are inaccesible to other presets. Each character is permitted only one ascendancy. To balance out the teams, the organizers have made it so that each team can only have a subset of the presets. One of the ascendancies, \"Sabateur\", is banned.\n",
    "\n",
    "One thing to note is that ascendancy bonuses are acquired in portions. To be fully ascended is to grab all possible upgrades related to that ascendancy.\n",
    "\n",
    "Each character also has a stage-based development referred to as \"levels\". Characters will start off weak. As they kill enemies they acquire numerical reward (\"experience points\"). When they have acquired sufficient experience points, they will \"level up\", and achieve the next stage of their character progression. In Path of Exile, a character can have levels from 1 to 100, inclusive of both ends. Typically, having more levels mean that your character becomes stronger.\n",
    "\n",
    "The playthrough of a character is broken down into two parts: campaign, where the character goes through a story-driven progression, and endgame, where the player can tackle various content unavailable in campaign. All of BPL's bounties occur in the endgame. \n",
    "\n",
    "A large portion of the endgame takes place in the Atlas, where players can enter special areas to fight harder enemies and acquire more rewarding loot. Completing sections of the Atlas awards players with the power to customize the Atlas in the form of \"atlas passives\". Note that is it not required that a player needs all atlas passives to participate in the endgame, but having more gives the player more options in their playstyle.\n",
    "\n",
    "The data is broken down into two csvs. \n",
    "**bpl-10_teams.csv** contains information at the end of the event. It contains finalized data of all the players, including level, whether or not a player has fully ascended, and the number of atlas passives they have acquired. \n",
    "**bpl-10_level_data.csv** contains progressive tracking of every single character's levelling over the course of the event. Snapshots of each character are taken at approximately every 15 minutes. Each entry contains the player, their team name, their character level, and time of snapshot.\n",
    "\n",
    "For anonymity and ethics, player names are replaced with hashed values.\n"
   ]
  },
  {
   "cell_type": "code",
   "execution_count": 5,
   "metadata": {},
   "outputs": [
    {
     "data": {
      "text/plain": [
       "team              string\n",
       "char_level         int64\n",
       "char_name_hash    string\n",
       "time_fetched      object\n",
       "dtype: object"
      ]
     },
     "execution_count": 5,
     "metadata": {},
     "output_type": "execute_result"
    }
   ],
   "source": [
    "'''\n",
    "The first thing we have to do is clean up the data.\n",
    "While there are no duplicates or missing values,\n",
    "the levelling data is inconsistent. Since data collection\n",
    "happened in real time, the timestamps can differ by seconds,\n",
    "even within the same snapshot.\n",
    "'''\n",
    "level_data.astype({'team': 'string', 'char_name_hash': 'string'}).dtypes\n",
    "level_data[\"time_fetched\"]\n",
    "\n"
   ]
  },
  {
   "cell_type": "code",
   "execution_count": 37,
   "metadata": {},
   "outputs": [
    {
     "name": "stdout",
     "output_type": "stream",
     "text": [
      "['2023-01-17 7:59:03']\n",
      "2023-01-17 08:00:00\n"
     ]
    }
   ],
   "source": [
    "test_row = level_data[\"time_fetched\"].sample()\n",
    "print(test_row.values)\n",
    "format = \"%Y-%m-%d %H:%M:%S\"\n",
    "tm = datetime.datetime.strptime(test_row.values[0], format)\n",
    "discard = datetime.timedelta(minutes=tm.minute % 15,\n",
    "                             seconds=tm.second\n",
    "                             )\n",
    "tm -= discard\n",
    "if discard >= datetime.timedelta(minutes=5):\n",
    "    tm += datetime.timedelta(minutes=15)\n",
    "print(tm)"
   ]
  },
  {
   "cell_type": "code",
   "execution_count": null,
   "metadata": {},
   "outputs": [],
   "source": []
  }
 ],
 "metadata": {
  "kernelspec": {
   "display_name": "Python 3",
   "language": "python",
   "name": "python3"
  },
  "language_info": {
   "codemirror_mode": {
    "name": "ipython",
    "version": 3
   },
   "file_extension": ".py",
   "mimetype": "text/x-python",
   "name": "python",
   "nbconvert_exporter": "python",
   "pygments_lexer": "ipython3",
   "version": "3.10.8"
  },
  "orig_nbformat": 4,
  "vscode": {
   "interpreter": {
    "hash": "172fcfc00cbba5040eb91991f37e591a988f3fffcc94574b71d928d0e47c6ff4"
   }
  }
 },
 "nbformat": 4,
 "nbformat_minor": 2
}
